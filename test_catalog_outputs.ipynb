{
 "cells": [
  {
   "cell_type": "code",
   "execution_count": 1,
   "metadata": {
    "collapsed": false
   },
   "outputs": [],
   "source": [
    "import math\n",
    "import lsst.afw.table as afwTable\n",
    "import lsst.daf.persistence as dafPersist\n",
    "\n",
    "repo_dir = \"/home/sspiehl/demo/rerun/demo1\""
   ]
  },
  {
   "cell_type": "code",
   "execution_count": 2,
   "metadata": {
    "collapsed": false
   },
   "outputs": [
    {
     "name": "stdout",
     "output_type": "stream",
     "text": [
      "ID:  104553694556585985\n",
      "RA:  318.332182956\n",
      "Dec:  1.15059813597\n",
      "ApFlux:  4166.41699219\n"
     ]
    },
    {
     "data": {
      "text/plain": [
       "array([   4166.41699219,    1826.97509766,  100423.015625  , ...,\n",
       "          1317.7623291 ,   93823.109375  ,    1151.31384277])"
      ]
     },
     "execution_count": 2,
     "metadata": {},
     "output_type": "execute_result"
    }
   ],
   "source": [
    "# first doing naïvely - without the butler (as an exercise)\n",
    "cat = afwTable.SourceCatalog.readFits(repo_dir + \"/0243433/src/src-0243433_04.fits\")\n",
    "s = cat[0]\n",
    "print \"ID: \", s['id']\n",
    "print \"RA: \", math.degrees(s.get('coord_ra'))\n",
    "print \"Dec: \", math.degrees(s.get('coord_dec'))\n",
    "print \"ApFlux: \", s.getApFlux()\n",
    "\n",
    "cat.getApFlux()"
   ]
  },
  {
   "cell_type": "code",
   "execution_count": 3,
   "metadata": {
    "collapsed": false
   },
   "outputs": [
    {
     "name": "stdout",
     "output_type": "stream",
     "text": [
      "[   4166.41699219    1826.97509766  100423.015625   ...,    1317.7623291\n",
      "   93823.109375      1151.31384277]\n",
      "[243433]\n",
      "[1, 2, 3, 4, 5, 6, 7, 8, 9, 10, 11, 12, 13, 14, 15, 16, 17, 18, 19, 20, 21, 22, 23, 24, 25, 26, 27, 28, 29, 30, 31, 32, 33, 34, 35, 36, 37, 38, 39, 40, 41, 42, 43, 44, 45, 46, 47, 48, 49, 50, 51, 52, 53, 54, 55, 56, 57, 58, 59, 60, 62]\n"
     ]
    }
   ],
   "source": [
    "# now using the butler\n",
    "b = dafPersist.Butler(repo_dir)\n",
    "cat_butler = b.get(\"src\", visit=243433, ccdnum=4)\n",
    "\n",
    "print cat_butler.getApFlux()\n",
    "\n",
    "print b.queryMetadata(\"src\", \"visit\")\n",
    "print b.queryMetadata(\"src\", \"ccdnum\", visit=243433) # strange output for this one - \n",
    "# unordered duplicates and nonexistant ccdnums"
   ]
  },
  {
   "cell_type": "code",
   "execution_count": null,
   "metadata": {
    "collapsed": true
   },
   "outputs": [],
   "source": []
  }
 ],
 "metadata": {
  "kernelspec": {
   "display_name": "Python 2",
   "language": "python",
   "name": "python2"
  },
  "language_info": {
   "codemirror_mode": {
    "name": "ipython",
    "version": 2
   },
   "file_extension": ".py",
   "mimetype": "text/x-python",
   "name": "python",
   "nbconvert_exporter": "python",
   "pygments_lexer": "ipython2",
   "version": "2.7.11"
  }
 },
 "nbformat": 4,
 "nbformat_minor": 0
}
