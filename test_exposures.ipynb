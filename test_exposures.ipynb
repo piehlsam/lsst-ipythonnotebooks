{
 "cells": [
  {
   "cell_type": "code",
   "execution_count": 1,
   "metadata": {
    "collapsed": true
   },
   "outputs": [],
   "source": [
    "import numpy as np\n",
    "\n",
    "%matplotlib inline\n",
    "import matplotlib.pyplot as plt"
   ]
  },
  {
   "cell_type": "code",
   "execution_count": 2,
   "metadata": {
    "collapsed": true
   },
   "outputs": [],
   "source": [
    "import lsst.afw.display as afwDisplay\n",
    "import lsst.afw.image as afwImage\n",
    "\n",
    "import lsst.afw.coord as afwCoord\n",
    "import lsst.afw.geom as afwGeom"
   ]
  },
  {
   "cell_type": "code",
   "execution_count": 3,
   "metadata": {
    "collapsed": true
   },
   "outputs": [],
   "source": [
    "import lsst.afw.image.utils as afwImageUtils\n",
    "\n",
    "afwImageUtils.resetFilters()\n",
    "afwImageUtils.defineFilter(name='g', lambdaEff=477, alias=['W-S-G+', 'HSC-G'])\n",
    "afwImageUtils.defineFilter(name='r', lambdaEff=623, alias=['W-S-R+', 'HSC-R'])\n",
    "afwImageUtils.defineFilter(name='i', lambdaEff=775, alias=['W-S-I+', 'HSC-I'])\n",
    "afwImageUtils.defineFilter(name='z', lambdaEff=925, alias=['W-S-Z+', 'HSC-Z'])\n",
    "afwImageUtils.defineFilter(name='y', lambdaEff=990, alias=['W-S-ZR', 'HSC-Y'])\n",
    "\n",
    "del afwImageUtils"
   ]
  },
  {
   "cell_type": "code",
   "execution_count": 4,
   "metadata": {
    "collapsed": false
   },
   "outputs": [],
   "source": [
    "fileName = \"example2.fits\"\n",
    "\n",
    "md = afwImage.readMetadata(fileName)\n",
    "wcs = afwImage.makeWcs(md, True)\n",
    "filter = afwImage.Filter(md)\n",
    "calib = afwImage.Calib(md)\n",
    "\n",
    "im = afwImage.ImageF(fileName)\n",
    "mask = afwImage.MaskU(fileName, 3)\n",
    "variance = afwImage.ImageF(fileName, 4)"
   ]
  },
  {
   "cell_type": "code",
   "execution_count": 6,
   "metadata": {
    "collapsed": true
   },
   "outputs": [],
   "source": [
    "\n",
    "disp = afwDisplay.Display(frame=1)\n",
    "\n",
    "disp.mtv(im, title=\"image\")\n",
    "afwDisplay.Display(frame=2).mtv(variance, title=\"variance\")\n",
    "afwDisplay.Display(frame=3).mtv(mask, title=\"mask\")"
   ]
  },
  {
   "cell_type": "code",
   "execution_count": 7,
   "metadata": {
    "collapsed": true
   },
   "outputs": [],
   "source": [
    "\n",
    "mi = afwImage.makeMaskedImage(im, mask, variance)\n",
    "exp = afwImage.makeExposure(mi)\n",
    "exp.setCalib(calib)\n",
    "exp.setFilter(filter)\n",
    "exp.setWcs(wcs)"
   ]
  },
  {
   "cell_type": "code",
   "execution_count": 8,
   "metadata": {
    "collapsed": false
   },
   "outputs": [
    {
     "name": "stdout",
     "output_type": "stream",
     "text": [
      "z; lambda_{eff} = 925 nm\n"
     ]
    }
   ],
   "source": [
    "\n",
    "exp = afwImage.ExposureF(fileName)\n",
    "print \"%s; lambda_{eff} = %.0f nm\" % (exp.getFilter().getName(), filter.getFilterProperty().getLambdaEff())\n",
    "\n",
    "disp.mtv(exp, title=\"Exposure\")\n",
    "disp.setMaskTransparency(50)"
   ]
  },
  {
   "cell_type": "code",
   "execution_count": 9,
   "metadata": {
    "collapsed": true
   },
   "outputs": [],
   "source": [
    "if True:\n",
    "    disp.pan(1670, 265)\n",
    "else:\n",
    "    rd = afwCoord.Coord(320.6631635*afwGeom.degrees, -0.3861881*afwGeom.degrees)\n",
    "    disp.pan(*exp.getWcs().skyToPixel(rd))\n",
    "    \n",
    "disp.zoom(2)"
   ]
  },
  {
   "cell_type": "code",
   "execution_count": null,
   "metadata": {
    "collapsed": true
   },
   "outputs": [],
   "source": []
  },
  {
   "cell_type": "code",
   "execution_count": null,
   "metadata": {
    "collapsed": true
   },
   "outputs": [],
   "source": []
  }
 ],
 "metadata": {
  "kernelspec": {
   "display_name": "Python 2",
   "language": "python",
   "name": "python2"
  },
  "language_info": {
   "codemirror_mode": {
    "name": "ipython",
    "version": 2
   },
   "file_extension": ".py",
   "mimetype": "text/x-python",
   "name": "python",
   "nbconvert_exporter": "python",
   "pygments_lexer": "ipython2",
   "version": "2.7.11"
  }
 },
 "nbformat": 4,
 "nbformat_minor": 0
}
