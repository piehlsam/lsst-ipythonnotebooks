{
 "cells": [
  {
   "cell_type": "code",
   "execution_count": 1,
   "metadata": {
    "collapsed": true
   },
   "outputs": [],
   "source": [
    "import numpy as np\n",
    "\n",
    "%matplotlib inline\n",
    "import matplotlib.pyplot as plt"
   ]
  },
  {
   "cell_type": "code",
   "execution_count": 2,
   "metadata": {
    "collapsed": false
   },
   "outputs": [],
   "source": [
    "from lsst.daf.butlerUtils import ExposureIdInfo\n",
    "\n",
    "import lsst.afw.display            as afwDisplay\n",
    "import lsst.afw.image              as afwImage\n",
    "import lsst.daf.base               as dafBase\n",
    "import lsst.afw.geom               as afwGeom\n",
    "import lsst.afw.table              as afwTable\n",
    "\n",
    "import lsst.meas.algorithms        as measAlg\n",
    "\n",
    "import lsst.afw.display.utils as afwDisplayUtils\n",
    "import lsst.afw.image.utils   as afwImageUtils\n",
    "\n",
    "\n",
    "from lsst.pipe.tasks.characterizeImage import CharacterizeImageTask\n",
    "from lsst.pipe.tasks.calibrate         import CalibrateTask\n",
    "from lsst.meas.algorithms.detection    import SourceDetectionTask\n",
    "from lsst.meas.deblender               import SourceDeblendTask\n",
    "from lsst.meas.base                    import SingleFrameMeasurementTask"
   ]
  },
  {
   "cell_type": "code",
   "execution_count": 3,
   "metadata": {
    "collapsed": true
   },
   "outputs": [],
   "source": [
    "disp  = afwDisplay.Display(1)"
   ]
  },
  {
   "cell_type": "code",
   "execution_count": 4,
   "metadata": {
    "collapsed": false
   },
   "outputs": [
    {
     "name": "stdout",
     "output_type": "stream",
     "text": [
      "SourceDetectionTask.thresholdType: specifies the desired flavor of Threshold\n",
      "Allowed values:\n",
      "\tpixel_stdev\tthreshold applied to per-pixel std deviation\n",
      "\tvariance\tthreshold applied to image variance\n",
      "\tvalue\tthreshold applied to image value\n",
      "\tstdev\tthreshold applied to image std deviation\n",
      "\n"
     ]
    }
   ],
   "source": [
    "schema = afwTable.SourceTable.makeMinimalSchema()\n",
    "algMetadata = dafBase.PropertyList()\n",
    "\n",
    "config = CharacterizeImageTask.ConfigClass()\n",
    "config.psfIterations = 1\n",
    "charImageTask =         CharacterizeImageTask(None, config=config)\n",
    "\n",
    "config = SourceDetectionTask.ConfigClass()\n",
    "if True:\n",
    "    config.thresholdValue = 100       # detection threshold in units of thresholdType\n",
    "    if True:\n",
    "        print \"SourceDetectionTask.thresholdType: %s\" % (\n",
    "            SourceDetectionTask.ConfigClass.thresholdType.__doc__)\n",
    "    config.thresholdType = \"stdev\"   # units for thresholdValue\n",
    "if False:                    \n",
    "    config.doTempLocalBackground = True  # Use local-background during detection step\n",
    "sourceDetectionTask =   SourceDetectionTask(schema=schema, config=config)\n",
    "\n",
    "sourceDeblendTask =     SourceDeblendTask(schema=schema)\n",
    "\n",
    "config = SingleFrameMeasurementTask.ConfigClass()\n",
    "config.doApplyApCorr = 'yes'\n",
    "sourceMeasurementTask = SingleFrameMeasurementTask(schema=schema, config=config,\n",
    "                                                   algMetadata=algMetadata)"
   ]
  },
  {
   "cell_type": "code",
   "execution_count": 5,
   "metadata": {
    "collapsed": false
   },
   "outputs": [],
   "source": [
    "fileName = \"example2.fits\"\n",
    "exposureIdInfo = ExposureIdInfo(0, 5)\n",
    "\n",
    "exposure = afwImage.ExposureF(fileName)\n",
    "\n",
    "tab = afwTable.SourceTable.make(schema)\n",
    "\n",
    "result = charImageTask.characterize(exposure, exposureIdInfo)\n",
    "\n",
    "result = sourceDetectionTask.run(tab, exposure)\n",
    "sources = result.sources\n",
    "\n",
    "sourceDeblendTask.run(exposure, sources, exposure.getPsf())\n",
    "\n",
    "sourceMeasurementTask.run(exposure, sources)\n",
    "\n",
    "sources.writeFits(\"outputTable.fits\")\n",
    "exposure.writeFits(\"example2-out.fits\")"
   ]
  },
  {
   "cell_type": "code",
   "execution_count": 6,
   "metadata": {
    "collapsed": true
   },
   "outputs": [],
   "source": [
    "sources = sources.copy(True)\n",
    "\n",
    "good = np.logical_and.reduce([sources.get('base_PixelFlags_flag_saturatedCenter') == 0,\n",
    "                              sources.get(\"deblend_nChild\") == 0,\n",
    "                              ])"
   ]
  },
  {
   "cell_type": "code",
   "execution_count": 7,
   "metadata": {
    "collapsed": true
   },
   "outputs": [],
   "source": [
    "if True:\n",
    "    disp.mtv(exposure)\n",
    "else:\n",
    "    disp.erase()\n",
    "    \n",
    "disp.pan(1163, 533); disp.zoom(1)\n",
    "\n",
    "with disp.Buffering():\n",
    "    for s in sources[good]:\n",
    "        disp.dot('+', *s.getCentroid(), ctype=afwDisplay.RED)"
   ]
  },
  {
   "cell_type": "code",
   "execution_count": null,
   "metadata": {
    "collapsed": true
   },
   "outputs": [],
   "source": []
  }
 ],
 "metadata": {
  "kernelspec": {
   "display_name": "Python 2",
   "language": "python",
   "name": "python2"
  },
  "language_info": {
   "codemirror_mode": {
    "name": "ipython",
    "version": 2
   },
   "file_extension": ".py",
   "mimetype": "text/x-python",
   "name": "python",
   "nbconvert_exporter": "python",
   "pygments_lexer": "ipython2",
   "version": "2.7.11"
  }
 },
 "nbformat": 4,
 "nbformat_minor": 0
}
